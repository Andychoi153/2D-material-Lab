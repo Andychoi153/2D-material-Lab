{
 "cells": [
  {
   "cell_type": "code",
   "execution_count": 1,
   "metadata": {
    "collapsed": false
   },
   "outputs": [],
   "source": [
    "import Scan_lib"
   ]
  },
  {
   "cell_type": "code",
   "execution_count": 2,
   "metadata": {
    "collapsed": true
   },
   "outputs": [],
   "source": [
    "file_name = r'/Users/mac/Downloads/17.09.05/fine_scan/hBN_fine_SCAN_step_0.3_um_endpoint_28.2,28.2um_1.00mW_532nm_polar_parallel_sampleA_  1'\n",
    "\n",
    "x_step_size= 0.3\n",
    "x_end_point = 28.2\n",
    "\n",
    "y_step_size = 0.3\n",
    "y_end_point = 28.2"
   ]
  },
  {
   "cell_type": "code",
   "execution_count": 3,
   "metadata": {
    "collapsed": false
   },
   "outputs": [],
   "source": [
    "z, x_axis, y_axis, sample = Scan_lib.get_file(file_name, x_step_size, x_end_point,y_step_size,y_end_point)"
   ]
  },
  {
   "cell_type": "code",
   "execution_count": 4,
   "metadata": {
    "collapsed": true
   },
   "outputs": [],
   "source": [
    "wavelength1 =  739.1\n",
    "wavelength2 = 657.4\n",
    "\n",
    "x_pos = 11.7\n",
    "y_pos = 24"
   ]
  },
  {
   "cell_type": "code",
   "execution_count": 5,
   "metadata": {
    "collapsed": false,
    "scrolled": false
   },
   "outputs": [
    {
     "name": "stdout",
     "output_type": "stream",
     "text": [
      "This is the format of your plot grid:\n",
      "[ (1,1) x1,y1 ]  [ (1,2) x2,y2 ]\n",
      "[ (2,1) x3,y3           -      ]\n",
      "\n"
     ]
    },
    {
     "data": {
      "text/html": [
       "<iframe id=\"igraph\" scrolling=\"no\" style=\"border:none;\" seamless=\"seamless\" src=\"https://plot.ly/~andychoi153/19.embed\" height=\"800px\" width=\"800px\"></iframe>"
      ],
      "text/plain": [
       "<plotly.tools.PlotlyDisplay object>"
      ]
     },
     "execution_count": 5,
     "metadata": {},
     "output_type": "execute_result"
    }
   ],
   "source": [
    "fig = Scan_lib.td_scan_plot(wavelength1,wavelength2,x_pos,y_pos,x_step_size,y_step_size,x_axis,y_axis,sample,z)\n",
    "fig"
   ]
  },
  {
   "cell_type": "code",
   "execution_count": 6,
   "metadata": {
    "collapsed": false
   },
   "outputs": [
    {
     "ename": "TypeError",
     "evalue": "resize_wavelength() missing 1 required positional argument: 'sample'",
     "output_type": "error",
     "traceback": [
      "\u001b[0;31m---------------------------------------------------------------------------\u001b[0m",
      "\u001b[0;31mTypeError\u001b[0m                                 Traceback (most recent call last)",
      "\u001b[0;32m<ipython-input-6-a2802d6740c0>\u001b[0m in \u001b[0;36m<module>\u001b[0;34m()\u001b[0m\n\u001b[0;32m----> 1\u001b[0;31m \u001b[0mz_resize\u001b[0m \u001b[0;34m=\u001b[0m \u001b[0mScan_lib\u001b[0m\u001b[0;34m.\u001b[0m\u001b[0mresize_wavelength\u001b[0m\u001b[0;34m(\u001b[0m\u001b[0;36m550\u001b[0m\u001b[0;34m,\u001b[0m \u001b[0;36m800\u001b[0m\u001b[0;34m,\u001b[0m \u001b[0mz\u001b[0m\u001b[0;34m)\u001b[0m\u001b[0;34m\u001b[0m\u001b[0m\n\u001b[0m\u001b[1;32m      2\u001b[0m \u001b[0mpredict\u001b[0m \u001b[0;34m=\u001b[0m \u001b[0mScan_lib\u001b[0m\u001b[0;34m.\u001b[0m\u001b[0mcluster_sample\u001b[0m\u001b[0;34m(\u001b[0m\u001b[0mz_resize\u001b[0m\u001b[0;34m,\u001b[0m\u001b[0mn\u001b[0m\u001b[0;34m)\u001b[0m\u001b[0;34m\u001b[0m\u001b[0m\n",
      "\u001b[0;31mTypeError\u001b[0m: resize_wavelength() missing 1 required positional argument: 'sample'"
     ]
    }
   ],
   "source": [
    "z_resize = Scan_lib.resize_wavelength(550, 800, z)\n",
    "predict = Scan_lib.cluster_sample(z_resize,n)"
   ]
  },
  {
   "cell_type": "code",
   "execution_count": null,
   "metadata": {
    "collapsed": true
   },
   "outputs": [],
   "source": [
    "x = Scan_lib.x_wavelength(sample)\n",
    "Scan_lib.print_cluster(predict, z, x ,n, start, end)"
   ]
  },
  {
   "cell_type": "code",
   "execution_count": null,
   "metadata": {
    "collapsed": true
   },
   "outputs": [],
   "source": [
    "file_name = r'/Users/mac/Downloads/17.09.21/hBN_graphene_electrode_10V_532nm_10s_0.9mW_pinhole150um  2'\n",
    "\n",
    "x_step_size= 0.3\n",
    "x_end_point_g = 24.6\n",
    "\n",
    "y_step_size = 0.3\n",
    "y_end_point_g = 25.2"
   ]
  },
  {
   "cell_type": "code",
   "execution_count": null,
   "metadata": {
    "collapsed": false
   },
   "outputs": [],
   "source": [
    "z_g, x_axis_g, y_axis_g, sample_g = Scan_lib.get_file(file_name, x_step_size, x_end_point_g,y_step_size,y_end_point_g)"
   ]
  },
  {
   "cell_type": "code",
   "execution_count": null,
   "metadata": {
    "collapsed": true
   },
   "outputs": [],
   "source": [
    "wavelength1 =  739.1\n",
    "wavelength2 = 657.4\n",
    "\n",
    "x_pos = 11.7\n",
    "y_pos = 24"
   ]
  },
  {
   "cell_type": "code",
   "execution_count": null,
   "metadata": {
    "collapsed": true
   },
   "outputs": [],
   "source": [
    "fig = Scan_lib.td_scan_plot(wavelength1,wavelength2,x_pos,y_pos,x_step_size,y_step_size_g,x_axis_g,y_axis_g,sample_g,z_g)\n",
    "fig"
   ]
  },
  {
   "cell_type": "code",
   "execution_count": null,
   "metadata": {
    "collapsed": true
   },
   "outputs": [],
   "source": [
    "z_resize = Scan_lib.resize_wavelength(550, 800, z_g)\n",
    "predict = Scan_lib.cluster_sample(z_resize,n)"
   ]
  }
 ],
 "metadata": {
  "kernelspec": {
   "display_name": "Python 3",
   "language": "python",
   "name": "python3"
  },
  "language_info": {
   "codemirror_mode": {
    "name": "ipython",
    "version": 3
   },
   "file_extension": ".py",
   "mimetype": "text/x-python",
   "name": "python",
   "nbconvert_exporter": "python",
   "pygments_lexer": "ipython3",
   "version": "3.6.0"
  }
 },
 "nbformat": 4,
 "nbformat_minor": 2
}
